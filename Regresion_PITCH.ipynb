{
  "nbformat": 4,
  "nbformat_minor": 0,
  "metadata": {
    "colab": {
      "provenance": [],
      "authorship_tag": "ABX9TyPnbh1GLgXyqkk57owiJ1EW",
      "include_colab_link": true
    },
    "kernelspec": {
      "name": "python3",
      "display_name": "Python 3"
    },
    "language_info": {
      "name": "python"
    }
  },
  "cells": [
    {
      "cell_type": "markdown",
      "metadata": {
        "id": "view-in-github",
        "colab_type": "text"
      },
      "source": [
        "<a href=\"https://colab.research.google.com/github/nloncomilla/ghtest/blob/main/Regresion_PITCH.ipynb\" target=\"_parent\"><img src=\"https://colab.research.google.com/assets/colab-badge.svg\" alt=\"Open In Colab\"/></a>"
      ]
    },
    {
      "cell_type": "markdown",
      "source": [
        "1) Cargamos las librerias que se utilizaran en el modelo"
      ],
      "metadata": {
        "id": "ke8IyR1eWt0v"
      }
    },
    {
      "cell_type": "code",
      "execution_count": 1,
      "metadata": {
        "id": "DDUooOVrWeYT"
      },
      "outputs": [],
      "source": [
        "import pandas as pd\n",
        "import numpy as np\n",
        "import seaborn as sns\n",
        "from scipy.stats import skew\n",
        "%matplotlib inline\n",
        "import matplotlib.pyplot as plt\n",
        "plt.style.use(\"ggplot\")\n",
        "plt.rcParams['figure.figsize'] = (12, 8)"
      ]
    },
    {
      "cell_type": "markdown",
      "source": [
        "2) Subimos la base de datos actualizada en PITCH_LR con los datos hasta la fecha a la carpeta de Archivos en Colab"
      ],
      "metadata": {
        "id": "cpF15zQSXLdj"
      }
    },
    {
      "cell_type": "code",
      "source": [
        "df = pd.read_csv('./LR_PITCH.csv')\n",
        "df = df[len(df)-42:] "
      ],
      "metadata": {
        "id": "7qKFCm0kW8Ew"
      },
      "execution_count": 2,
      "outputs": []
    },
    {
      "cell_type": "code",
      "source": [
        "df = df.drop('Time',axis=1) "
      ],
      "metadata": {
        "id": "IxX__MSmXIsq"
      },
      "execution_count": 3,
      "outputs": []
    },
    {
      "cell_type": "markdown",
      "source": [
        "3) Preparamos las matrices de entrenamiento"
      ],
      "metadata": {
        "id": "f42Ct65BXhWd"
      }
    },
    {
      "cell_type": "code",
      "source": [
        "from sklearn.linear_model import LinearRegression\n",
        "from sklearn.metrics import r2_score\n",
        "from sklearn.metrics import mean_squared_error\n",
        "x=df.drop('Rend',axis=1)\n",
        "y=df['Rend']"
      ],
      "metadata": {
        "id": "8pynaVRnXgtV"
      },
      "execution_count": 4,
      "outputs": []
    },
    {
      "cell_type": "markdown",
      "source": [
        "4) Regresion Lineal directa"
      ],
      "metadata": {
        "id": "4wJXI3NxXyWO"
      }
    },
    {
      "cell_type": "code",
      "source": [
        "lm1=LinearRegression()\n",
        "lm1.fit(x,y)\n",
        "print(lm1.intercept_)\n",
        "print(lm1.coef_)"
      ],
      "metadata": {
        "colab": {
          "base_uri": "https://localhost:8080/"
        },
        "id": "OQnTuKtNX2LY",
        "outputId": "fa6ea91a-6da6-49be-bef3-ec82d8c19724"
      },
      "execution_count": 5,
      "outputs": [
        {
          "output_type": "stream",
          "name": "stdout",
          "text": [
            "-334.93814712875593\n",
            "[ 1.15851263  1.07035524 65.99203756 -7.91089054 -5.8215612 ]\n"
          ]
        }
      ]
    },
    {
      "cell_type": "markdown",
      "source": [
        "5) Regresion con herramienta Split"
      ],
      "metadata": {
        "id": "dlficfBkX3DO"
      }
    },
    {
      "cell_type": "code",
      "source": [
        "from sklearn.model_selection import train_test_split\n",
        "X=df.drop('Rend',axis=1)\n",
        "x_train,x_test,y_train,y_test=train_test_split(X,y,random_state=1)\n",
        "                                            \n",
        "lm2=LinearRegression().fit(x_train,y_train)\n",
        "lm2_pred=lm2.predict(x_test)\n",
        "print(\"RMSE:\",np.sqrt(mean_squared_error(y_test,lm2_pred)))\n",
        "print(\"R*2:\",r2_score(y_test,lm2_pred))\n"
      ],
      "metadata": {
        "colab": {
          "base_uri": "https://localhost:8080/"
        },
        "id": "FRR_dZ4MYO0h",
        "outputId": "f61cab79-2d62-4c71-8460-3154f09dd118"
      },
      "execution_count": 7,
      "outputs": [
        {
          "output_type": "stream",
          "name": "stdout",
          "text": [
            "RMSE: 1.3881524236575815\n",
            "R*2: 0.5747941767408284\n"
          ]
        }
      ]
    },
    {
      "cell_type": "code",
      "source": [
        "from yellowbrick.regressor import PredictionError,ResidualsPlot\n",
        "v=PredictionError(lm2).fit(x_train,y_train)\n",
        "v.score(x_test,y_test)\n",
        "v.poof()"
      ],
      "metadata": {
        "colab": {
          "base_uri": "https://localhost:8080/",
          "height": 450
        },
        "id": "Pbel7mRBYfz7",
        "outputId": "165af57b-337b-430f-a806-834e6defd9f1"
      },
      "execution_count": 8,
      "outputs": [
        {
          "output_type": "stream",
          "name": "stderr",
          "text": [
            "/usr/local/lib/python3.8/dist-packages/sklearn/base.py:450: UserWarning: X does not have valid feature names, but LinearRegression was fitted with feature names\n",
            "  warnings.warn(\n"
          ]
        },
        {
          "output_type": "display_data",
          "data": {
            "text/plain": [
              "<Figure size 576x396 with 1 Axes>"
            ],
            "image/png": "[encoded data removed]"
          },
          "metadata": {}
        },
        {
          "output_type": "execute_result",
          "data": {
            "text/plain": [
              "<matplotlib.axes._subplots.AxesSubplot at 0x7f25756ac100>"
            ]
          },
          "metadata": {},
          "execution_count": 8
        }
      ]
    },
    {
      "cell_type": "code",
      "source": [
        "print(lm2.coef_)\n",
        "print(lm2.intercept_)"
      ],
      "metadata": {
        "colab": {
          "base_uri": "https://localhost:8080/"
        },
        "id": "7Krx_Ta7ZGKQ",
        "outputId": "8e1184d5-4840-47cb-a52a-8618b7977c56"
      },
      "execution_count": 9,
      "outputs": [
        {
          "output_type": "stream",
          "name": "stdout",
          "text": [
            "[ 1.13492475  0.97169013 55.94789252 -8.15236876 -5.91805533]\n",
            "-271.58328729113373\n"
          ]
        }
      ]
    },
    {
      "cell_type": "markdown",
      "source": [
        "6) Metodo con Interaccion de variables"
      ],
      "metadata": {
        "id": "4ZDGt25eY0ft"
      }
    },
    {
      "cell_type": "code",
      "source": [
        "df['interaction1']=df['Camara']*df['Temp']\n",
        "df['interaction2']=df['Temp']*df['Reciclo']\n",
        "df['interaction3']=df['Reciclo']*df['API']\n",
        "df['interaction5']=df['CCN']*df['Camara']\n",
        "\n",
        "X=df[['Camara','Temp','Reciclo','API','CCN','interaction1','interaction2','interaction3','interaction5']]\n",
        "y=df['Rend']\n",
        "x_train,x_test,y_train,y_test=train_test_split(X,y,random_state=1)\n",
        "                                            \n",
        "lm3=LinearRegression().fit(x_train,y_train)\n",
        "lm3_pred=lm3.predict(x_test)\n",
        "print(\"RMSE:\",np.sqrt(mean_squared_error(y_test,lm3_pred)))\n",
        "print(\"R*2:\",r2_score(y_test,lm3_pred))"
      ],
      "metadata": {
        "colab": {
          "base_uri": "https://localhost:8080/"
        },
        "id": "eZat_0BRYz6O",
        "outputId": "791750f8-7fef-4234-c2ab-1f1a30a794fd"
      },
      "execution_count": 10,
      "outputs": [
        {
          "output_type": "stream",
          "name": "stdout",
          "text": [
            "RMSE: 1.6596882083338629\n",
            "R*2: 0.39217590916567757\n"
          ]
        }
      ]
    },
    {
      "cell_type": "code",
      "source": [
        "v=PredictionError(lm3).fit(x_train,y_train)\n",
        "v.score(x_test,y_test)\n",
        "v.poof()"
      ],
      "metadata": {
        "colab": {
          "base_uri": "https://localhost:8080/",
          "height": 450
        },
        "id": "aqc2ncb6ZBIg",
        "outputId": "cc34767d-5324-427a-9c14-2d8f5f321f7a"
      },
      "execution_count": 11,
      "outputs": [
        {
          "output_type": "stream",
          "name": "stderr",
          "text": [
            "/usr/local/lib/python3.8/dist-packages/sklearn/base.py:450: UserWarning: X does not have valid feature names, but LinearRegression was fitted with feature names\n",
            "  warnings.warn(\n"
          ]
        },
        {
          "output_type": "display_data",
          "data": {
            "text/plain": [
              "<Figure size 576x396 with 1 Axes>"
            ],
            "image/png": "[encoded data removed]"
          },
          "metadata": {}
        },
        {
          "output_type": "execute_result",
          "data": {
            "text/plain": [
              "<matplotlib.axes._subplots.AxesSubplot at 0x7f2574064af0>"
            ]
          },
          "metadata": {},
          "execution_count": 11
        }
      ]
    },
    {
      "cell_type": "code",
      "source": [
        "print(lm3.coef_)\n",
        "print(lm3.intercept_)"
      ],
      "metadata": {
        "colab": {
          "base_uri": "https://localhost:8080/"
        },
        "id": "RUozHO5aZN-x",
        "outputId": "67e456d0-cdf6-40f3-d80b-a6c678db413a"
      },
      "execution_count": 12,
      "outputs": [
        {
          "output_type": "stream",
          "name": "stdout",
          "text": [
            "[ 5.16868938e+03 -3.97926887e+01 -2.18256224e+04  1.46929962e+01\n",
            " -1.01062697e+00 -1.01987044e+01  4.47224689e+01 -2.10453820e+01\n",
            " -6.42150474e+00]\n",
            "19538.305241652237\n"
          ]
        }
      ]
    },
    {
      "cell_type": "markdown",
      "source": [
        "7) Ingresar valores actuales del día"
      ],
      "metadata": {
        "id": "4Q5wIEyBZVPx"
      }
    },
    {
      "cell_type": "code",
      "source": [
        "a = float(input('Valor Camara_Servicio: '))\n",
        "b = float(input('Valor Temp Salida: '))\n",
        "c = float(input('Valor Reciclo: '))\n",
        "d = float(input('Valor API: '))\n",
        "e = float(input('Valor CCN: '))\n",
        "\n",
        "valores = [[a,b,c,d,e]]\n",
        "valores3 = [[a,b,c,d,e,(a*b),(b*c),(c*d),(e*a)]]"
      ],
      "metadata": {
        "colab": {
          "base_uri": "https://localhost:8080/"
        },
        "id": "GuJJehYoZeYz",
        "outputId": "e0ba0af3-2547-4628-c209-2060c948ee80"
      },
      "execution_count": 13,
      "outputs": [
        {
          "name": "stdout",
          "output_type": "stream",
          "text": [
            "Valor Camara_Servicio: 0.79949\n",
            "Valor Temp Salida: 494.13\n",
            "Valor Reciclo: 1.0806\n",
            "Valor API: 8.4378\n",
            "Valor CCN: 20.015\n"
          ]
        }
      ]
    },
    {
      "cell_type": "markdown",
      "source": [
        "8)Predicción del valor diario"
      ],
      "metadata": {
        "id": "ssxnlQZoZw_U"
      }
    },
    {
      "cell_type": "code",
      "source": [
        "predicted1 = lm1.predict(valores)\n",
        "print(predicted1)"
      ],
      "metadata": {
        "colab": {
          "base_uri": "https://localhost:8080/"
        },
        "id": "2p2yLHZaaKCn",
        "outputId": "a66e7916-8dbe-4c2f-cea4-256af321d377"
      },
      "execution_count": 14,
      "outputs": [
        {
          "output_type": "stream",
          "name": "stdout",
          "text": [
            "[82.92464505]\n"
          ]
        },
        {
          "output_type": "stream",
          "name": "stderr",
          "text": [
            "/usr/local/lib/python3.8/dist-packages/sklearn/base.py:450: UserWarning: X does not have valid feature names, but LinearRegression was fitted with feature names\n",
            "  warnings.warn(\n"
          ]
        }
      ]
    },
    {
      "cell_type": "code",
      "source": [
        "predicted2 = lm2.predict(valores)\n",
        "print(predicted2)"
      ],
      "metadata": {
        "colab": {
          "base_uri": "https://localhost:8080/"
        },
        "id": "7J-V_mf2aBXO",
        "outputId": "08a324ec-54a9-4c1f-d7a5-08563a761be6"
      },
      "execution_count": 15,
      "outputs": [
        {
          "output_type": "stream",
          "name": "stdout",
          "text": [
            "[82.68467671]\n"
          ]
        },
        {
          "output_type": "stream",
          "name": "stderr",
          "text": [
            "/usr/local/lib/python3.8/dist-packages/sklearn/base.py:450: UserWarning: X does not have valid feature names, but LinearRegression was fitted with feature names\n",
            "  warnings.warn(\n"
          ]
        }
      ]
    },
    {
      "cell_type": "code",
      "source": [
        "predicted3 = lm3.predict(valores3)\n",
        "print(predicted3)"
      ],
      "metadata": {
        "colab": {
          "base_uri": "https://localhost:8080/"
        },
        "id": "zJQZUFLqZvn8",
        "outputId": "f003a0b1-d147-4985-9776-d4de7f03208f"
      },
      "execution_count": 16,
      "outputs": [
        {
          "output_type": "stream",
          "name": "stdout",
          "text": [
            "[83.04710841]\n"
          ]
        },
        {
          "output_type": "stream",
          "name": "stderr",
          "text": [
            "/usr/local/lib/python3.8/dist-packages/sklearn/base.py:450: UserWarning: X does not have valid feature names, but LinearRegression was fitted with feature names\n",
            "  warnings.warn(\n"
          ]
        }
      ]
    }
  ]
}