{
  "nbformat": 4,
  "nbformat_minor": 0,
  "metadata": {
    "colab": {
      "provenance": [],
      "authorship_tag": "ABX9TyPbzymc2GW9d5J79yd3s9/5",
      "include_colab_link": true
    },
    "kernelspec": {
      "name": "python3",
      "display_name": "Python 3"
    },
    "language_info": {
      "name": "python"
    }
  },
  "cells": [
    {
      "cell_type": "markdown",
      "metadata": {
        "id": "view-in-github",
        "colab_type": "text"
      },
      "source": [
        "<a href=\"https://colab.research.google.com/github/nloncomilla/ENAP/blob/main/Regresion_PITCH.ipynb\" target=\"_parent\"><img src=\"https://colab.research.google.com/assets/colab-badge.svg\" alt=\"Open In Colab\"/></a>"
      ]
    },
    {
      "cell_type": "markdown",
      "source": [
        "1) Cargamos las librerias que se utilizaran en el modelo"
      ],
      "metadata": {
        "id": "ke8IyR1eWt0v"
      }
    },
    {
      "cell_type": "code",
      "execution_count": 138,
      "metadata": {
        "id": "DDUooOVrWeYT"
      },
      "outputs": [],
      "source": [
        "import pandas as pd\n",
        "import numpy as np\n",
        "import seaborn as sns\n",
        "from scipy.stats import skew\n",
        "%matplotlib inline\n",
        "import matplotlib.pyplot as plt\n",
        "plt.style.use(\"ggplot\")\n",
        "plt.rcParams['figure.figsize'] = (12, 8)"
      ]
    },
    {
      "cell_type": "markdown",
      "source": [
        "2) Subimos la base de datos actualizada en PITCH_LR con los datos hasta la fecha a la carpeta de Archivos en Colab"
      ],
      "metadata": {
        "id": "cpF15zQSXLdj"
      }
    },
    {
      "cell_type": "code",
      "source": [
        "df = pd.read_csv('https://raw.githubusercontent.com/nloncomilla/ENAP/main/LR_PITCH.csv') # Se deberia colocar una direccion de archivo en la nube\n",
        "df2 = df[len(df)-51:]\n",
        "df"
      ],
      "metadata": {
        "id": "7qKFCm0kW8Ew",
        "colab": {
          "base_uri": "https://localhost:8080/",
          "height": 424
        },
        "outputId": "0157046c-1793-40e5-bc42-7f941f5a8f4c"
      },
      "execution_count": 139,
      "outputs": [
        {
          "output_type": "execute_result",
          "data": {
            "text/plain": [
              "         Tiempo  Presion(Camara)  Temperatura   Reciclo       API        CCN  \\\n",
              "0     06-ene-20         0.606831   494.711366  1.089395  5.991823  24.050562   \n",
              "1     07-ene-20         0.613278   494.042788  1.108119  5.869815  24.336714   \n",
              "2     08-ene-20         0.613278   494.042788  1.108119  5.591276  24.956394   \n",
              "3     09-ene-20         0.608766   493.658586  1.133889  5.351488  25.446344   \n",
              "4     10-ene-20         0.613282   493.007155  1.069731  5.178977  25.856352   \n",
              "...         ...              ...          ...       ...       ...        ...   \n",
              "1018  04-feb-23         0.773703   494.264635  1.068345  7.406434  20.974297   \n",
              "1019  05-feb-23         1.015667   494.332486  1.065172  7.087349  21.577837   \n",
              "1020  06-feb-23         0.755367   494.728291  1.079779  7.087349  21.577837   \n",
              "1021  07-feb-23         0.868515   493.656238  1.081718  7.087349  21.577837   \n",
              "1022  08-feb-23         0.684547   493.927808  1.094824  7.578150  20.699341   \n",
              "\n",
              "      Rendimiento  \n",
              "0       77.044143  \n",
              "1       75.889224  \n",
              "2       75.889224  \n",
              "3       76.977526  \n",
              "4       72.573456  \n",
              "...           ...  \n",
              "1018    84.393917  \n",
              "1019    82.702442  \n",
              "1020    84.891259  \n",
              "1021    83.469067  \n",
              "1022    84.925463  \n",
              "\n",
              "[1023 rows x 7 columns]"
            ],
            "text/html": [
              "\n",
              "  <div id=\"df-906a8fe0-f0bb-456b-95a2-a75917a429ac\">\n",
              "    <div class=\"colab-df-container\">\n",
              "      <div>\n",
              "<style scoped>\n",
              "    .dataframe tbody tr th:only-of-type {\n",
              "        vertical-align: middle;\n",
              "    }\n",
              "\n",
              "    .dataframe tbody tr th {\n",
              "        vertical-align: top;\n",
              "    }\n",
              "\n",
              "    .dataframe thead th {\n",
              "        text-align: right;\n",
              "    }\n",
              "</style>\n",
              "<table border=\"1\" class=\"dataframe\">\n",
              "  <thead>\n",
              "    <tr style=\"text-align: right;\">\n",
              "      <th></th>\n",
              "      <th>Tiempo</th>\n",
              "      <th>Presion(Camara)</th>\n",
              "      <th>Temperatura</th>\n",
              "      <th>Reciclo</th>\n",
              "      <th>API</th>\n",
              "      <th>CCN</th>\n",
              "      <th>Rendimiento</th>\n",
              "    </tr>\n",
              "  </thead>\n",
              "  <tbody>\n",
              "    <tr>\n",
              "      <th>0</th>\n",
              "      <td>06-ene-20</td>\n",
              "      <td>0.606831</td>\n",
              "      <td>494.711366</td>\n",
              "      <td>1.089395</td>\n",
              "      <td>5.991823</td>\n",
              "      <td>24.050562</td>\n",
              "      <td>77.044143</td>\n",
              "    </tr>\n",
              "    <tr>\n",
              "      <th>1</th>\n",
              "      <td>07-ene-20</td>\n",
              "      <td>0.613278</td>\n",
              "      <td>494.042788</td>\n",
              "      <td>1.108119</td>\n",
              "      <td>5.869815</td>\n",
              "      <td>24.336714</td>\n",
              "      <td>75.889224</td>\n",
              "    </tr>\n",
              "    <tr>\n",
              "      <th>2</th>\n",
              "      <td>08-ene-20</td>\n",
              "      <td>0.613278</td>\n",
              "      <td>494.042788</td>\n",
              "      <td>1.108119</td>\n",
              "      <td>5.591276</td>\n",
              "      <td>24.956394</td>\n",
              "      <td>75.889224</td>\n",
              "    </tr>\n",
              "    <tr>\n",
              "      <th>3</th>\n",
              "      <td>09-ene-20</td>\n",
              "      <td>0.608766</td>\n",
              "      <td>493.658586</td>\n",
              "      <td>1.133889</td>\n",
              "      <td>5.351488</td>\n",
              "      <td>25.446344</td>\n",
              "      <td>76.977526</td>\n",
              "    </tr>\n",
              "    <tr>\n",
              "      <th>4</th>\n",
              "      <td>10-ene-20</td>\n",
              "      <td>0.613282</td>\n",
              "      <td>493.007155</td>\n",
              "      <td>1.069731</td>\n",
              "      <td>5.178977</td>\n",
              "      <td>25.856352</td>\n",
              "      <td>72.573456</td>\n",
              "    </tr>\n",
              "    <tr>\n",
              "      <th>...</th>\n",
              "      <td>...</td>\n",
              "      <td>...</td>\n",
              "      <td>...</td>\n",
              "      <td>...</td>\n",
              "      <td>...</td>\n",
              "      <td>...</td>\n",
              "      <td>...</td>\n",
              "    </tr>\n",
              "    <tr>\n",
              "      <th>1018</th>\n",
              "      <td>04-feb-23</td>\n",
              "      <td>0.773703</td>\n",
              "      <td>494.264635</td>\n",
              "      <td>1.068345</td>\n",
              "      <td>7.406434</td>\n",
              "      <td>20.974297</td>\n",
              "      <td>84.393917</td>\n",
              "    </tr>\n",
              "    <tr>\n",
              "      <th>1019</th>\n",
              "      <td>05-feb-23</td>\n",
              "      <td>1.015667</td>\n",
              "      <td>494.332486</td>\n",
              "      <td>1.065172</td>\n",
              "      <td>7.087349</td>\n",
              "      <td>21.577837</td>\n",
              "      <td>82.702442</td>\n",
              "    </tr>\n",
              "    <tr>\n",
              "      <th>1020</th>\n",
              "      <td>06-feb-23</td>\n",
              "      <td>0.755367</td>\n",
              "      <td>494.728291</td>\n",
              "      <td>1.079779</td>\n",
              "      <td>7.087349</td>\n",
              "      <td>21.577837</td>\n",
              "      <td>84.891259</td>\n",
              "    </tr>\n",
              "    <tr>\n",
              "      <th>1021</th>\n",
              "      <td>07-feb-23</td>\n",
              "      <td>0.868515</td>\n",
              "      <td>493.656238</td>\n",
              "      <td>1.081718</td>\n",
              "      <td>7.087349</td>\n",
              "      <td>21.577837</td>\n",
              "      <td>83.469067</td>\n",
              "    </tr>\n",
              "    <tr>\n",
              "      <th>1022</th>\n",
              "      <td>08-feb-23</td>\n",
              "      <td>0.684547</td>\n",
              "      <td>493.927808</td>\n",
              "      <td>1.094824</td>\n",
              "      <td>7.578150</td>\n",
              "      <td>20.699341</td>\n",
              "      <td>84.925463</td>\n",
              "    </tr>\n",
              "  </tbody>\n",
              "</table>\n",
              "<p>1023 rows × 7 columns</p>\n",
              "</div>\n",
              "      <button class=\"colab-df-convert\" onclick=\"convertToInteractive('df-906a8fe0-f0bb-456b-95a2-a75917a429ac')\"\n",
              "              title=\"Convert this dataframe to an interactive table.\"\n",
              "              style=\"display:none;\">\n",
              "        \n",
              "  <svg xmlns=\"http://www.w3.org/2000/svg\" height=\"24px\"viewBox=\"0 0 24 24\"\n",
              "       width=\"24px\">\n",
              "    <path d=\"M0 0h24v24H0V0z\" fill=\"none\"/>\n",
              "    <path d=\"M18.56 5.44l.94 2.06.94-2.06 2.06-.94-2.06-.94-.94-2.06-.94 2.06-2.06.94zm-11 1L8.5 8.5l.94-2.06 2.06-.94-2.06-.94L8.5 2.5l-.94 2.06-2.06.94zm10 10l.94 2.06.94-2.06 2.06-.94-2.06-.94-.94-2.06-.94 2.06-2.06.94z\"/><path d=\"M17.41 7.96l-1.37-1.37c-.4-.4-.92-.59-1.43-.59-.52 0-1.04.2-1.43.59L10.3 9.45l-7.72 7.72c-.78.78-.78 2.05 0 2.83L4 21.41c.39.39.9.59 1.41.59.51 0 1.02-.2 1.41-.59l7.78-7.78 2.81-2.81c.8-.78.8-2.07 0-2.86zM5.41 20L4 18.59l7.72-7.72 1.47 1.35L5.41 20z\"/>\n",
              "  </svg>\n",
              "      </button>\n",
              "      \n",
              "  <style>\n",
              "    .colab-df-container {\n",
              "      display:flex;\n",
              "      flex-wrap:wrap;\n",
              "      gap: 12px;\n",
              "    }\n",
              "\n",
              "    .colab-df-convert {\n",
              "      background-color: #E8F0FE;\n",
              "      border: none;\n",
              "      border-radius: 50%;\n",
              "      cursor: pointer;\n",
              "      display: none;\n",
              "      fill: #1967D2;\n",
              "      height: 32px;\n",
              "      padding: 0 0 0 0;\n",
              "      width: 32px;\n",
              "    }\n",
              "\n",
              "    .colab-df-convert:hover {\n",
              "      background-color: #E2EBFA;\n",
              "      box-shadow: 0px 1px 2px rgba(60, 64, 67, 0.3), 0px 1px 3px 1px rgba(60, 64, 67, 0.15);\n",
              "      fill: #174EA6;\n",
              "    }\n",
              "\n",
              "    [theme=dark] .colab-df-convert {\n",
              "      background-color: #3B4455;\n",
              "      fill: #D2E3FC;\n",
              "    }\n",
              "\n",
              "    [theme=dark] .colab-df-convert:hover {\n",
              "      background-color: #434B5C;\n",
              "      box-shadow: 0px 1px 3px 1px rgba(0, 0, 0, 0.15);\n",
              "      filter: drop-shadow(0px 1px 2px rgba(0, 0, 0, 0.3));\n",
              "      fill: #FFFFFF;\n",
              "    }\n",
              "  </style>\n",
              "\n",
              "      <script>\n",
              "        const buttonEl =\n",
              "          document.querySelector('#df-906a8fe0-f0bb-456b-95a2-a75917a429ac button.colab-df-convert');\n",
              "        buttonEl.style.display =\n",
              "          google.colab.kernel.accessAllowed ? 'block' : 'none';\n",
              "\n",
              "        async function convertToInteractive(key) {\n",
              "          const element = document.querySelector('#df-906a8fe0-f0bb-456b-95a2-a75917a429ac');\n",
              "          const dataTable =\n",
              "            await google.colab.kernel.invokeFunction('convertToInteractive',\n",
              "                                                     [key], {});\n",
              "          if (!dataTable) return;\n",
              "\n",
              "          const docLinkHtml = 'Like what you see? Visit the ' +\n",
              "            '<a target=\"_blank\" href=https://colab.research.google.com/notebooks/data_table.ipynb>data table notebook</a>'\n",
              "            + ' to learn more about interactive tables.';\n",
              "          element.innerHTML = '';\n",
              "          dataTable['output_type'] = 'display_data';\n",
              "          await google.colab.output.renderOutput(dataTable, element);\n",
              "          const docLink = document.createElement('div');\n",
              "          docLink.innerHTML = docLinkHtml;\n",
              "          element.appendChild(docLink);\n",
              "        }\n",
              "      </script>\n",
              "    </div>\n",
              "  </div>\n",
              "  "
            ]
          },
          "metadata": {},
          "execution_count": 139
        }
      ]
    },
    {
      "cell_type": "code",
      "source": [
        "df1 = df.drop('Tiempo',axis=1) \n",
        "df2 = df2.drop('Tiempo',axis=1) "
      ],
      "metadata": {
        "id": "IxX__MSmXIsq",
        "colab": {
          "base_uri": "https://localhost:8080/"
        },
        "outputId": "64b56bce-60cd-4c8d-f9bc-fb859e38cc4b"
      },
      "execution_count": null,
      "outputs": [
        {
          "output_type": "execute_result",
          "data": {
            "text/plain": [
              "0       06-ene-20\n",
              "1       07-ene-20\n",
              "2       08-ene-20\n",
              "3       09-ene-20\n",
              "4       10-ene-20\n",
              "          ...    \n",
              "1018    04-feb-23\n",
              "1019    05-feb-23\n",
              "1020    06-feb-23\n",
              "1021    07-feb-23\n",
              "1022    08-feb-23\n",
              "Name: Tiempo, Length: 1023, dtype: object"
            ]
          },
          "metadata": {},
          "execution_count": 109
        }
      ]
    },
    {
      "cell_type": "markdown",
      "source": [
        "3) Preparamos las matrices de entrenamiento"
      ],
      "metadata": {
        "id": "f42Ct65BXhWd"
      }
    },
    {
      "cell_type": "code",
      "source": [
        "from sklearn.linear_model import LinearRegression\n",
        "from sklearn.metrics import r2_score\n",
        "from sklearn.metrics import mean_squared_error\n",
        "x=df1.drop('Rendimiento',axis=1)\n",
        "y=df1['Rendimiento']\n",
        "\n",
        "x2=df2.drop('Rendimiento',axis=1)\n",
        "y2=df2['Rendimiento']"
      ],
      "metadata": {
        "id": "8pynaVRnXgtV"
      },
      "execution_count": null,
      "outputs": []
    },
    {
      "cell_type": "markdown",
      "source": [
        "4) Regresion Lineal directa"
      ],
      "metadata": {
        "id": "4wJXI3NxXyWO"
      }
    },
    {
      "cell_type": "code",
      "source": [
        "lm1=LinearRegression()\n",
        "lm1.fit(x,y)\n",
        "print(\"------DF---------\")\n",
        "print(lm1.intercept_)\n",
        "print(lm1.coef_)\n",
        "lm4=LinearRegression()\n",
        "lm4.fit(x2,y2)\n",
        "print(\"------DF2---------\")\n",
        "print(lm4.intercept_)\n",
        "print(lm4.coef_)\n"
      ],
      "metadata": {
        "colab": {
          "base_uri": "https://localhost:8080/"
        },
        "id": "OQnTuKtNX2LY",
        "outputId": "d196b121-0536-40dd-a34f-3b4add950805"
      },
      "execution_count": null,
      "outputs": [
        {
          "output_type": "stream",
          "name": "stdout",
          "text": [
            "------DF---------\n",
            "115.47541098645816\n",
            "[-8.3877039   0.09970468  4.51137606 -3.57913195 -2.76451667]\n",
            "------DF2---------\n",
            "-572.9126945664401\n",
            "[-1.75463147  1.23259727 63.01733235 -1.12003145 -0.51519414]\n"
          ]
        }
      ]
    },
    {
      "cell_type": "markdown",
      "source": [
        "5) Regresion con herramienta Split"
      ],
      "metadata": {
        "id": "dlficfBkX3DO"
      }
    },
    {
      "cell_type": "code",
      "source": [
        "from sklearn.model_selection import train_test_split\n",
        "X=df1.drop('Rendimiento',axis=1)\n",
        "x_train,x_test,y_train,y_test=train_test_split(X,y,random_state=1)\n",
        "print(\"------------DF---------------\")                                            \n",
        "lm2=LinearRegression().fit(x_train,y_train)\n",
        "lm2_pred=lm2.predict(x_test)\n",
        "print(\"RMSE:\",np.sqrt(mean_squared_error(y_test,lm2_pred)))\n",
        "print(\"R*2:\",r2_score(y_test,lm2_pred))\n",
        "print(\"--------------------------------------------\")\n",
        "\n",
        "X2=df2.drop('Rendimiento',axis=1)\n",
        "x2_train,x2_test,y2_train,y2_test=train_test_split(X2,y2,random_state=1)\n",
        "print(\"------------DF2---------------\")      \n",
        "lm5=LinearRegression().fit(x2_train,y2_train)\n",
        "lm5_pred=lm5.predict(x2_test)\n",
        "print(\"RMSE:\",np.sqrt(mean_squared_error(y2_test,lm5_pred)))\n",
        "print(\"R*2:\",r2_score(y2_test,lm5_pred))\n",
        "\n"
      ],
      "metadata": {
        "colab": {
          "base_uri": "https://localhost:8080/"
        },
        "id": "FRR_dZ4MYO0h",
        "outputId": "d36dee0e-4685-4ec1-9a40-8c9f9df1349f"
      },
      "execution_count": null,
      "outputs": [
        {
          "output_type": "stream",
          "name": "stdout",
          "text": [
            "------------DF---------------\n",
            "RMSE: 7.047362847846197\n",
            "R*2: 0.12663904649849467\n",
            "--------------------------------------------\n",
            "------------DF2---------------\n",
            "RMSE: 1.6980312379981661\n",
            "R*2: 0.4262329052157897\n"
          ]
        }
      ]
    },
    {
      "cell_type": "code",
      "source": [
        "from yellowbrick.regressor import PredictionError,ResidualsPlot\n",
        "v=PredictionError(lm2).fit(x_train,y_train)\n",
        "v.score(x_test,y_test)\n",
        "v.poof()"
      ],
      "metadata": {
        "colab": {
          "base_uri": "https://localhost:8080/",
          "height": 590
        },
        "id": "Pbel7mRBYfz7",
        "outputId": "55e86bf6-38cc-42df-8b97-6cf629cacb48"
      },
      "execution_count": null,
      "outputs": [
        {
          "output_type": "stream",
          "name": "stderr",
          "text": [
            "/usr/local/lib/python3.8/dist-packages/sklearn/base.py:450: UserWarning: X does not have valid feature names, but LinearRegression was fitted with feature names\n",
            "  warnings.warn(\n"
          ]
        },
        {
          "output_type": "display_data",
          "data": {
            "text/plain": [
              "<Figure size 864x576 with 1 Axes>"
            ],
            "image/png": "[encoded data removed]"
          },
          "metadata": {}
        },
        {
          "output_type": "execute_result",
          "data": {
            "text/plain": [
              "<matplotlib.axes._subplots.AxesSubplot at 0x7fa22da5bc10>"
            ]
          },
          "metadata": {},
          "execution_count": 63
        }
      ]
    },
    {
      "cell_type": "code",
      "source": [
        "v=PredictionError(lm5).fit(x2_train,y2_train)\n",
        "v.score(x2_test,y2_test)\n",
        "v.poof()"
      ],
      "metadata": {
        "colab": {
          "base_uri": "https://localhost:8080/",
          "height": 590
        },
        "id": "OLYVXRcJVhTr",
        "outputId": "521d176f-60c4-4dd3-efdb-c1c2ed17f980"
      },
      "execution_count": null,
      "outputs": [
        {
          "output_type": "stream",
          "name": "stderr",
          "text": [
            "/usr/local/lib/python3.8/dist-packages/sklearn/base.py:450: UserWarning: X does not have valid feature names, but LinearRegression was fitted with feature names\n",
            "  warnings.warn(\n"
          ]
        },
        {
          "output_type": "display_data",
          "data": {
            "text/plain": [
              "<Figure size 864x576 with 1 Axes>"
            ],
            "image/png": "[encoded data removed]"
          },
          "metadata": {}
        },
        {
          "output_type": "execute_result",
          "data": {
            "text/plain": [
              "<matplotlib.axes._subplots.AxesSubplot at 0x7fa22d725550>"
            ]
          },
          "metadata": {},
          "execution_count": 64
        }
      ]
    },
    {
      "cell_type": "code",
      "source": [
        "print(\"-----------DF-------------------\")\n",
        "print(lm2.coef_)\n",
        "print(lm2.intercept_)\n",
        "print(\"------------DF2-------------------\")\n",
        "print(lm5.coef_)\n",
        "print(lm5.intercept_)"
      ],
      "metadata": {
        "colab": {
          "base_uri": "https://localhost:8080/"
        },
        "id": "7Krx_Ta7ZGKQ",
        "outputId": "05769885-30f6-49d2-cc51-ce21d7db4979"
      },
      "execution_count": null,
      "outputs": [
        {
          "output_type": "stream",
          "name": "stdout",
          "text": [
            "-----------DF-------------------\n",
            "[-8.65639867  0.10990317  3.64141059 -3.61110046 -2.80175176]\n",
            "112.58598131401315\n",
            "------------DF2-------------------\n",
            "[-4.57396094  1.47998737 49.8321403  -1.21265444 -0.53241187]\n",
            "-677.5764630872184\n"
          ]
        }
      ]
    },
    {
      "cell_type": "markdown",
      "source": [
        "6) Metodo con Interaccion de variables"
      ],
      "metadata": {
        "id": "4ZDGt25eY0ft"
      }
    },
    {
      "cell_type": "code",
      "source": [
        "\n",
        "df1['interaction1']=df1['Presion(Camara)']*df1['Temperatura']\n",
        "df1['interaction2']=df1['Temperatura']*df1['Reciclo']\n",
        "df1['interaction3']=df1['Reciclo']*df1['API']\n",
        "df1['interaction5']=df1['CCN']*df1['Presion(Camara)']\n",
        "\n",
        "X=df1[['Presion(Camara)','Temperatura','Reciclo','API','CCN','interaction1','interaction2','interaction3','interaction5']]\n",
        "y=df1['Rendimiento']\n",
        "x_train,x_test,y_train,y_test=train_test_split(X,y,random_state=1)\n",
        "                                            \n",
        "lm3=LinearRegression().fit(x_train,y_train)\n",
        "lm3_pred=lm3.predict(x_test)\n",
        "print(\"RMSE:\",np.sqrt(mean_squared_error(y_test,lm3_pred)))\n",
        "print(\"R*2:\",r2_score(y_test,lm3_pred))\n"
      ],
      "metadata": {
        "colab": {
          "base_uri": "https://localhost:8080/"
        },
        "id": "eZat_0BRYz6O",
        "outputId": "42002f73-68c8-4084-acdc-fb68584614af"
      },
      "execution_count": null,
      "outputs": [
        {
          "output_type": "stream",
          "name": "stdout",
          "text": [
            "RMSE: 6.8966064791889945\n",
            "R*2: 0.16360505787514268\n"
          ]
        }
      ]
    },
    {
      "cell_type": "code",
      "source": [
        "df2['interaction1']=df2['Presion(Camara)']*df2['Temperatura']\n",
        "df2['interaction2']=df2['Temperatura']*df2['Reciclo']\n",
        "df2['interaction3']=df2['Reciclo']*df2['API']\n",
        "df2['interaction5']=df2['CCN']*df2['Presion(Camara)']\n",
        "\n",
        "X2=df2[['Presion(Camara)','Temperatura','Reciclo','API','CCN','interaction1','interaction2','interaction3','interaction5']]\n",
        "y2=df2['Rendimiento']\n",
        "x2_train,x2_test,y2_train,y2_test=train_test_split(X2,y2,random_state=1)\n",
        "                                            \n",
        "lm6=LinearRegression().fit(x2_train,y2_train)\n",
        "lm6_pred=lm6.predict(x2_test)\n",
        "print(\"RMSE:\",np.sqrt(mean_squared_error(y2_test,lm6_pred)))\n",
        "print(\"R*2:\",r2_score(y2_test,lm6_pred))"
      ],
      "metadata": {
        "colab": {
          "base_uri": "https://localhost:8080/"
        },
        "id": "j9h8kxzpV7om",
        "outputId": "56a2f938-ff14-4dca-c92f-2e5e54dcae9c"
      },
      "execution_count": null,
      "outputs": [
        {
          "output_type": "stream",
          "name": "stdout",
          "text": [
            "RMSE: 1.6814867077769415\n",
            "R*2: 0.43735927485559833\n"
          ]
        }
      ]
    },
    {
      "cell_type": "code",
      "source": [
        "v=PredictionError(lm3).fit(x_train,y_train)\n",
        "v.score(x_test,y_test)\n",
        "v.poof()"
      ],
      "metadata": {
        "colab": {
          "base_uri": "https://localhost:8080/",
          "height": 590
        },
        "id": "aqc2ncb6ZBIg",
        "outputId": "a71b6c45-c7e7-48fa-bc0e-7deb5e4d4569"
      },
      "execution_count": null,
      "outputs": [
        {
          "output_type": "stream",
          "name": "stderr",
          "text": [
            "/usr/local/lib/python3.8/dist-packages/sklearn/base.py:450: UserWarning: X does not have valid feature names, but LinearRegression was fitted with feature names\n",
            "  warnings.warn(\n"
          ]
        },
        {
          "output_type": "display_data",
          "data": {
            "text/plain": [
              "<Figure size 864x576 with 1 Axes>"
            ],
            "image/png": "[encoded data removed]"
          },
          "metadata": {}
        },
        {
          "output_type": "execute_result",
          "data": {
            "text/plain": [
              "<matplotlib.axes._subplots.AxesSubplot at 0x7fa22db2b5e0>"
            ]
          },
          "metadata": {},
          "execution_count": 68
        }
      ]
    },
    {
      "cell_type": "code",
      "source": [
        "v=PredictionError(lm6).fit(x2_train,y2_train)\n",
        "v.score(x2_test,y2_test)\n",
        "v.poof()"
      ],
      "metadata": {
        "colab": {
          "base_uri": "https://localhost:8080/",
          "height": 590
        },
        "id": "_QcRyJH8W95o",
        "outputId": "b96837b2-f3d0-4ee5-9ba9-2e552f76ed1d"
      },
      "execution_count": null,
      "outputs": [
        {
          "output_type": "stream",
          "name": "stderr",
          "text": [
            "/usr/local/lib/python3.8/dist-packages/sklearn/base.py:450: UserWarning: X does not have valid feature names, but LinearRegression was fitted with feature names\n",
            "  warnings.warn(\n"
          ]
        },
        {
          "output_type": "display_data",
          "data": {
            "text/plain": [
              "<Figure size 864x576 with 1 Axes>"
            ],
            "image/png": "[encoded data removed]"
          },
          "metadata": {}
        },
        {
          "output_type": "execute_result",
          "data": {
            "text/plain": [
              "<matplotlib.axes._subplots.AxesSubplot at 0x7fa22dbb10a0>"
            ]
          },
          "metadata": {},
          "execution_count": 69
        }
      ]
    },
    {
      "cell_type": "code",
      "source": [
        "print(lm3.coef_)\n",
        "print(lm3.intercept_)"
      ],
      "metadata": {
        "colab": {
          "base_uri": "https://localhost:8080/"
        },
        "id": "RUozHO5aZN-x",
        "outputId": "84f30294-f60c-495b-c2df-fb7a97b7c016"
      },
      "execution_count": null,
      "outputs": [
        {
          "output_type": "stream",
          "name": "stdout",
          "text": [
            "[ 4.74658546e+01  8.49112666e-02 -6.99264877e+01 -1.42933569e+01\n",
            " -1.02009219e+00 -7.73842970e-03  2.39127856e-02  1.00141481e+01\n",
            " -2.39489271e+00]\n",
            "151.57452945962922\n"
          ]
        }
      ]
    },
    {
      "cell_type": "code",
      "source": [
        "print(lm6.coef_)\n",
        "print(lm6.intercept_)"
      ],
      "metadata": {
        "colab": {
          "base_uri": "https://localhost:8080/"
        },
        "id": "mRrbL0gWXDto",
        "outputId": "70a06a67-985c-4486-bb3b-2cd63d4019bd"
      },
      "execution_count": null,
      "outputs": [
        {
          "output_type": "stream",
          "name": "stdout",
          "text": [
            "[ 4.91399982e+00 -1.76194531e+01 -8.54619662e+03  2.50992240e+01\n",
            " -2.03559772e+00 -7.87418912e-02  1.78293946e+01 -2.51782737e+01\n",
            "  1.41736016e+00]\n",
            "8567.155640697456\n"
          ]
        }
      ]
    },
    {
      "cell_type": "markdown",
      "source": [
        "7) Ingresar valores actuales del día"
      ],
      "metadata": {
        "id": "4Q5wIEyBZVPx"
      }
    },
    {
      "cell_type": "code",
      "source": [
        "i=0\n",
        "valores = []\n",
        "while True:\n",
        "  try:\n",
        "    print(df1.columns[i],':')\n",
        "    dato = float(input(\"\"))\n",
        "    valores.append(dato)\n",
        "    print(\"Valor Guardado\")\n",
        "    if len(valores)<=4:\n",
        "      i+=1\n",
        "    else:\n",
        "      break\n",
        "  except ValueError:\n",
        "    if len(valores)<=4:\n",
        "      print(\"Dato Incorrecto, ingresa valores numéricos\")\n",
        "    else:\n",
        "      break\n",
        "valores1 = np.array((valores[0],valores[1],valores[2],valores[3],valores[4]))\n",
        "valores3 = np.array((valores[0],valores[1],valores[2],valores[3],valores[4],valores[0]*valores[1],valores[1]*valores[2],valores[2]*valores[3],valores[0]*valores[3]))\n",
        "nvalores = np.array((str(input(\"FECHA(dd-mmm-yy):\")),valores[0],valores[1],valores[2],valores[3],valores[4],float(input(\"Rendimiento:\"))))"
      ],
      "metadata": {
        "colab": {
          "base_uri": "https://localhost:8080/"
        },
        "id": "GuJJehYoZeYz",
        "outputId": "b64b758c-cfa5-4cbf-d453-2d333d741705"
      },
      "execution_count": null,
      "outputs": [
        {
          "name": "stdout",
          "output_type": "stream",
          "text": [
            "Presion(Camara) :\n",
            "0.68454746\n",
            "Valor Guardado\n",
            "Temperatura :\n",
            "493.92780828\n",
            "Valor Guardado\n",
            "Reciclo :\n",
            "1.09482356\n",
            "Valor Guardado\n",
            "API :\n",
            "7.5781498\n",
            "Valor Guardado\n",
            "CCN :\n",
            "20.69934082\n",
            "Valor Guardado\n",
            "FECHA(dd-mmm-yy):09-feb-23\n",
            "Rendimiento:84.92546334\n"
          ]
        }
      ]
    },
    {
      "cell_type": "code",
      "source": [
        "valores1 = valores1.reshape(1,-1)\n",
        "valores3 = valores3.reshape(1,-1)\n",
        "valores3"
      ],
      "metadata": {
        "colab": {
          "base_uri": "https://localhost:8080/"
        },
        "id": "ZMAhe-XnuURy",
        "outputId": "d8139d02-3952-4315-b2fa-50ee76f16b2d"
      },
      "execution_count": null,
      "outputs": [
        {
          "output_type": "execute_result",
          "data": {
            "text/plain": [
              "array([[  0.68454746, 493.92780828,   1.09482356,   7.5781498 ,\n",
              "         20.69934082, 338.11702658, 540.76380144,   8.29673694,\n",
              "          5.1876032 ]])"
            ]
          },
          "metadata": {},
          "execution_count": 126
        }
      ]
    },
    {
      "cell_type": "markdown",
      "source": [
        "8)Predicción del valor diario"
      ],
      "metadata": {
        "id": "ssxnlQZoZw_U"
      }
    },
    {
      "cell_type": "code",
      "source": [
        "predicted1 = lm1.predict(valores1)\n",
        "print(predicted1)"
      ],
      "metadata": {
        "colab": {
          "base_uri": "https://localhost:8080/"
        },
        "id": "2p2yLHZaaKCn",
        "outputId": "77c8e149-4b15-4ef4-8e50-914850806ff8"
      },
      "execution_count": null,
      "outputs": [
        {
          "output_type": "stream",
          "name": "stdout",
          "text": [
            "[79.57283214]\n"
          ]
        },
        {
          "output_type": "stream",
          "name": "stderr",
          "text": [
            "/usr/local/lib/python3.8/dist-packages/sklearn/base.py:450: UserWarning: X does not have valid feature names, but LinearRegression was fitted with feature names\n",
            "  warnings.warn(\n"
          ]
        }
      ]
    },
    {
      "cell_type": "code",
      "source": [
        "predicted2 = lm2.predict(valores1)\n",
        "print(predicted2)"
      ],
      "metadata": {
        "colab": {
          "base_uri": "https://localhost:8080/"
        },
        "id": "7J-V_mf2aBXO",
        "outputId": "cc54fe8f-f8bb-45ae-eba1-abdf926f370d"
      },
      "execution_count": null,
      "outputs": [
        {
          "output_type": "stream",
          "name": "stdout",
          "text": [
            "[79.57132463]\n"
          ]
        },
        {
          "output_type": "stream",
          "name": "stderr",
          "text": [
            "/usr/local/lib/python3.8/dist-packages/sklearn/base.py:450: UserWarning: X does not have valid feature names, but LinearRegression was fitted with feature names\n",
            "  warnings.warn(\n"
          ]
        }
      ]
    },
    {
      "cell_type": "code",
      "source": [
        "predicted3 = lm3.predict(valores3)\n",
        "print(predicted3)"
      ],
      "metadata": {
        "colab": {
          "base_uri": "https://localhost:8080/"
        },
        "id": "zJQZUFLqZvn8",
        "outputId": "06e4b625-1415-4030-e822-944e34d32940"
      },
      "execution_count": null,
      "outputs": [
        {
          "output_type": "stream",
          "name": "stdout",
          "text": [
            "[100.99326714]\n"
          ]
        },
        {
          "output_type": "stream",
          "name": "stderr",
          "text": [
            "/usr/local/lib/python3.8/dist-packages/sklearn/base.py:450: UserWarning: X does not have valid feature names, but LinearRegression was fitted with feature names\n",
            "  warnings.warn(\n"
          ]
        }
      ]
    },
    {
      "cell_type": "code",
      "source": [
        "predicted4 = lm4.predict(valores1)\n",
        "print(predicted4)"
      ],
      "metadata": {
        "colab": {
          "base_uri": "https://localhost:8080/"
        },
        "id": "ksjSHrgMXeAo",
        "outputId": "71e4edf7-a725-4627-ec3b-38c24ebd3bbb"
      },
      "execution_count": null,
      "outputs": [
        {
          "output_type": "stream",
          "name": "stdout",
          "text": [
            "[84.54116171]\n"
          ]
        },
        {
          "output_type": "stream",
          "name": "stderr",
          "text": [
            "/usr/local/lib/python3.8/dist-packages/sklearn/base.py:450: UserWarning: X does not have valid feature names, but LinearRegression was fitted with feature names\n",
            "  warnings.warn(\n"
          ]
        }
      ]
    },
    {
      "cell_type": "code",
      "source": [
        "predicted5 = lm5.predict(valores1)\n",
        "print(predicted5)"
      ],
      "metadata": {
        "colab": {
          "base_uri": "https://localhost:8080/"
        },
        "id": "qka3KxuOXhGZ",
        "outputId": "fb52083c-c809-4f53-b1e4-07ea5f7627f7"
      },
      "execution_count": null,
      "outputs": [
        {
          "output_type": "stream",
          "name": "stdout",
          "text": [
            "[84.64651195]\n"
          ]
        },
        {
          "output_type": "stream",
          "name": "stderr",
          "text": [
            "/usr/local/lib/python3.8/dist-packages/sklearn/base.py:450: UserWarning: X does not have valid feature names, but LinearRegression was fitted with feature names\n",
            "  warnings.warn(\n"
          ]
        }
      ]
    },
    {
      "cell_type": "code",
      "source": [
        "predicted6 = lm6.predict(valores3)\n",
        "print(predicted6)"
      ],
      "metadata": {
        "colab": {
          "base_uri": "https://localhost:8080/"
        },
        "id": "XE_O5RT1XkNB",
        "outputId": "46490043-c628-4804-8122-6b4d0d44bb72"
      },
      "execution_count": null,
      "outputs": [
        {
          "output_type": "stream",
          "name": "stdout",
          "text": [
            "[72.59678708]\n"
          ]
        },
        {
          "output_type": "stream",
          "name": "stderr",
          "text": [
            "/usr/local/lib/python3.8/dist-packages/sklearn/base.py:450: UserWarning: X does not have valid feature names, but LinearRegression was fitted with feature names\n",
            "  warnings.warn(\n"
          ]
        }
      ]
    },
    {
      "cell_type": "code",
      "source": [
        "nvalores"
      ],
      "metadata": {
        "colab": {
          "base_uri": "https://localhost:8080/"
        },
        "id": "inVq8L2D2kyp",
        "outputId": "d6108b83-6f64-428a-9a5d-86755d7ba10a"
      },
      "execution_count": null,
      "outputs": [
        {
          "output_type": "execute_result",
          "data": {
            "text/plain": [
              "array(['09-feb-23', '0.68454746', '493.92780828', '1.09482356',\n",
              "       '7.5781498', '20.69934082', '84.92546334'], dtype='<U32')"
            ]
          },
          "metadata": {},
          "execution_count": 133
        }
      ]
    },
    {
      "cell_type": "code",
      "source": [
        "nvalores = nvalores.reshape(1,-1)\n",
        "nvalores"
      ],
      "metadata": {
        "colab": {
          "base_uri": "https://localhost:8080/"
        },
        "id": "sBvJlWgH2xcY",
        "outputId": "b13636c0-29b7-4470-f215-6e5c41bfb72d"
      },
      "execution_count": null,
      "outputs": [
        {
          "output_type": "execute_result",
          "data": {
            "text/plain": [
              "array([['09-feb-23', '0.68454746', '493.92780828', '1.09482356',\n",
              "        '7.5781498', '20.69934082', '84.92546334']], dtype='<U32')"
            ]
          },
          "metadata": {},
          "execution_count": 134
        }
      ]
    },
    {
      "cell_type": "code",
      "source": [
        "print(type(nvalores))\n",
        "dfn = pd.DataFrame(nvalores, columns = ['Tiempo','Presion(Camara)','Temperatura','Reciclo','API','CNN','Rendimiento'])\n",
        "dfn"
      ],
      "metadata": {
        "colab": {
          "base_uri": "https://localhost:8080/",
          "height": 98
        },
        "id": "mko7iqbn1qSr",
        "outputId": "e2053b12-7228-483f-f354-d762eedb4a01"
      },
      "execution_count": null,
      "outputs": [
        {
          "output_type": "stream",
          "name": "stdout",
          "text": [
            "<class 'numpy.ndarray'>\n"
          ]
        },
        {
          "output_type": "execute_result",
          "data": {
            "text/plain": [
              "      Tiempo Presion(Camara)   Temperatura     Reciclo        API  \\\n",
              "0  09-feb-23      0.68454746  493.92780828  1.09482356  7.5781498   \n",
              "\n",
              "           CNN  Rendimiento  \n",
              "0  20.69934082  84.92546334  "
            ],
            "text/html": [
              "\n",
              "  <div id=\"df-6db8683d-ab79-48cf-b9f1-14a03cc4cb2c\">\n",
              "    <div class=\"colab-df-container\">\n",
              "      <div>\n",
              "<style scoped>\n",
              "    .dataframe tbody tr th:only-of-type {\n",
              "        vertical-align: middle;\n",
              "    }\n",
              "\n",
              "    .dataframe tbody tr th {\n",
              "        vertical-align: top;\n",
              "    }\n",
              "\n",
              "    .dataframe thead th {\n",
              "        text-align: right;\n",
              "    }\n",
              "</style>\n",
              "<table border=\"1\" class=\"dataframe\">\n",
              "  <thead>\n",
              "    <tr style=\"text-align: right;\">\n",
              "      <th></th>\n",
              "      <th>Tiempo</th>\n",
              "      <th>Presion(Camara)</th>\n",
              "      <th>Temperatura</th>\n",
              "      <th>Reciclo</th>\n",
              "      <th>API</th>\n",
              "      <th>CNN</th>\n",
              "      <th>Rendimiento</th>\n",
              "    </tr>\n",
              "  </thead>\n",
              "  <tbody>\n",
              "    <tr>\n",
              "      <th>0</th>\n",
              "      <td>09-feb-23</td>\n",
              "      <td>0.68454746</td>\n",
              "      <td>493.92780828</td>\n",
              "      <td>1.09482356</td>\n",
              "      <td>7.5781498</td>\n",
              "      <td>20.69934082</td>\n",
              "      <td>84.92546334</td>\n",
              "    </tr>\n",
              "  </tbody>\n",
              "</table>\n",
              "</div>\n",
              "      <button class=\"colab-df-convert\" onclick=\"convertToInteractive('df-6db8683d-ab79-48cf-b9f1-14a03cc4cb2c')\"\n",
              "              title=\"Convert this dataframe to an interactive table.\"\n",
              "              style=\"display:none;\">\n",
              "        \n",
              "  <svg xmlns=\"http://www.w3.org/2000/svg\" height=\"24px\"viewBox=\"0 0 24 24\"\n",
              "       width=\"24px\">\n",
              "    <path d=\"M0 0h24v24H0V0z\" fill=\"none\"/>\n",
              "    <path d=\"M18.56 5.44l.94 2.06.94-2.06 2.06-.94-2.06-.94-.94-2.06-.94 2.06-2.06.94zm-11 1L8.5 8.5l.94-2.06 2.06-.94-2.06-.94L8.5 2.5l-.94 2.06-2.06.94zm10 10l.94 2.06.94-2.06 2.06-.94-2.06-.94-.94-2.06-.94 2.06-2.06.94z\"/><path d=\"M17.41 7.96l-1.37-1.37c-.4-.4-.92-.59-1.43-.59-.52 0-1.04.2-1.43.59L10.3 9.45l-7.72 7.72c-.78.78-.78 2.05 0 2.83L4 21.41c.39.39.9.59 1.41.59.51 0 1.02-.2 1.41-.59l7.78-7.78 2.81-2.81c.8-.78.8-2.07 0-2.86zM5.41 20L4 18.59l7.72-7.72 1.47 1.35L5.41 20z\"/>\n",
              "  </svg>\n",
              "      </button>\n",
              "      \n",
              "  <style>\n",
              "    .colab-df-container {\n",
              "      display:flex;\n",
              "      flex-wrap:wrap;\n",
              "      gap: 12px;\n",
              "    }\n",
              "\n",
              "    .colab-df-convert {\n",
              "      background-color: #E8F0FE;\n",
              "      border: none;\n",
              "      border-radius: 50%;\n",
              "      cursor: pointer;\n",
              "      display: none;\n",
              "      fill: #1967D2;\n",
              "      height: 32px;\n",
              "      padding: 0 0 0 0;\n",
              "      width: 32px;\n",
              "    }\n",
              "\n",
              "    .colab-df-convert:hover {\n",
              "      background-color: #E2EBFA;\n",
              "      box-shadow: 0px 1px 2px rgba(60, 64, 67, 0.3), 0px 1px 3px 1px rgba(60, 64, 67, 0.15);\n",
              "      fill: #174EA6;\n",
              "    }\n",
              "\n",
              "    [theme=dark] .colab-df-convert {\n",
              "      background-color: #3B4455;\n",
              "      fill: #D2E3FC;\n",
              "    }\n",
              "\n",
              "    [theme=dark] .colab-df-convert:hover {\n",
              "      background-color: #434B5C;\n",
              "      box-shadow: 0px 1px 3px 1px rgba(0, 0, 0, 0.15);\n",
              "      filter: drop-shadow(0px 1px 2px rgba(0, 0, 0, 0.3));\n",
              "      fill: #FFFFFF;\n",
              "    }\n",
              "  </style>\n",
              "\n",
              "      <script>\n",
              "        const buttonEl =\n",
              "          document.querySelector('#df-6db8683d-ab79-48cf-b9f1-14a03cc4cb2c button.colab-df-convert');\n",
              "        buttonEl.style.display =\n",
              "          google.colab.kernel.accessAllowed ? 'block' : 'none';\n",
              "\n",
              "        async function convertToInteractive(key) {\n",
              "          const element = document.querySelector('#df-6db8683d-ab79-48cf-b9f1-14a03cc4cb2c');\n",
              "          const dataTable =\n",
              "            await google.colab.kernel.invokeFunction('convertToInteractive',\n",
              "                                                     [key], {});\n",
              "          if (!dataTable) return;\n",
              "\n",
              "          const docLinkHtml = 'Like what you see? Visit the ' +\n",
              "            '<a target=\"_blank\" href=https://colab.research.google.com/notebooks/data_table.ipynb>data table notebook</a>'\n",
              "            + ' to learn more about interactive tables.';\n",
              "          element.innerHTML = '';\n",
              "          dataTable['output_type'] = 'display_data';\n",
              "          await google.colab.output.renderOutput(dataTable, element);\n",
              "          const docLink = document.createElement('div');\n",
              "          docLink.innerHTML = docLinkHtml;\n",
              "          element.appendChild(docLink);\n",
              "        }\n",
              "      </script>\n",
              "    </div>\n",
              "  </div>\n",
              "  "
            ]
          },
          "metadata": {},
          "execution_count": 135
        }
      ]
    },
    {
      "cell_type": "code",
      "source": [
        "dfn = df.append(dfn,ignore_index=True)\n",
        "dfn"
      ],
      "metadata": {
        "colab": {
          "base_uri": "https://localhost:8080/",
          "height": 424
        },
        "id": "KWSP_b065SeJ",
        "outputId": "cdd427c1-833d-4dd1-8666-19d387de9428"
      },
      "execution_count": null,
      "outputs": [
        {
          "output_type": "execute_result",
          "data": {
            "text/plain": [
              "         Tiempo Presion(Camara)   Temperatura     Reciclo        API  \\\n",
              "0     06-ene-20        0.606831    494.711366    1.089395   5.991823   \n",
              "1     07-ene-20        0.613278    494.042788    1.108119   5.869815   \n",
              "2     08-ene-20        0.613278    494.042788    1.108119   5.591276   \n",
              "3     09-ene-20        0.608766    493.658586    1.133889   5.351488   \n",
              "4     10-ene-20        0.613282    493.007155    1.069731   5.178977   \n",
              "...         ...             ...           ...         ...        ...   \n",
              "1019  05-feb-23        1.015667    494.332486    1.065172   7.087349   \n",
              "1020  06-feb-23        0.755367    494.728291    1.079779   7.087349   \n",
              "1021  07-feb-23        0.868515    493.656238    1.081718   7.087349   \n",
              "1022  08-feb-23        0.684547    493.927808    1.094824    7.57815   \n",
              "1023  09-feb-23      0.68454746  493.92780828  1.09482356  7.5781498   \n",
              "\n",
              "            CCN  Rendimiento          CNN  \n",
              "0     24.050562    77.044143          NaN  \n",
              "1     24.336714    75.889224          NaN  \n",
              "2     24.956394    75.889224          NaN  \n",
              "3     25.446344    76.977526          NaN  \n",
              "4     25.856352    72.573456          NaN  \n",
              "...         ...          ...          ...  \n",
              "1019  21.577837    82.702442          NaN  \n",
              "1020  21.577837    84.891259          NaN  \n",
              "1021  21.577837    83.469067          NaN  \n",
              "1022  20.699341    84.925463          NaN  \n",
              "1023        NaN  84.92546334  20.69934082  \n",
              "\n",
              "[1024 rows x 8 columns]"
            ],
            "text/html": [
              "\n",
              "  <div id=\"df-1db01e9c-75b4-43ef-9f63-08a9739b64bc\">\n",
              "    <div class=\"colab-df-container\">\n",
              "      <div>\n",
              "<style scoped>\n",
              "    .dataframe tbody tr th:only-of-type {\n",
              "        vertical-align: middle;\n",
              "    }\n",
              "\n",
              "    .dataframe tbody tr th {\n",
              "        vertical-align: top;\n",
              "    }\n",
              "\n",
              "    .dataframe thead th {\n",
              "        text-align: right;\n",
              "    }\n",
              "</style>\n",
              "<table border=\"1\" class=\"dataframe\">\n",
              "  <thead>\n",
              "    <tr style=\"text-align: right;\">\n",
              "      <th></th>\n",
              "      <th>Tiempo</th>\n",
              "      <th>Presion(Camara)</th>\n",
              "      <th>Temperatura</th>\n",
              "      <th>Reciclo</th>\n",
              "      <th>API</th>\n",
              "      <th>CCN</th>\n",
              "      <th>Rendimiento</th>\n",
              "      <th>CNN</th>\n",
              "    </tr>\n",
              "  </thead>\n",
              "  <tbody>\n",
              "    <tr>\n",
              "      <th>0</th>\n",
              "      <td>06-ene-20</td>\n",
              "      <td>0.606831</td>\n",
              "      <td>494.711366</td>\n",
              "      <td>1.089395</td>\n",
              "      <td>5.991823</td>\n",
              "      <td>24.050562</td>\n",
              "      <td>77.044143</td>\n",
              "      <td>NaN</td>\n",
              "    </tr>\n",
              "    <tr>\n",
              "      <th>1</th>\n",
              "      <td>07-ene-20</td>\n",
              "      <td>0.613278</td>\n",
              "      <td>494.042788</td>\n",
              "      <td>1.108119</td>\n",
              "      <td>5.869815</td>\n",
              "      <td>24.336714</td>\n",
              "      <td>75.889224</td>\n",
              "      <td>NaN</td>\n",
              "    </tr>\n",
              "    <tr>\n",
              "      <th>2</th>\n",
              "      <td>08-ene-20</td>\n",
              "      <td>0.613278</td>\n",
              "      <td>494.042788</td>\n",
              "      <td>1.108119</td>\n",
              "      <td>5.591276</td>\n",
              "      <td>24.956394</td>\n",
              "      <td>75.889224</td>\n",
              "      <td>NaN</td>\n",
              "    </tr>\n",
              "    <tr>\n",
              "      <th>3</th>\n",
              "      <td>09-ene-20</td>\n",
              "      <td>0.608766</td>\n",
              "      <td>493.658586</td>\n",
              "      <td>1.133889</td>\n",
              "      <td>5.351488</td>\n",
              "      <td>25.446344</td>\n",
              "      <td>76.977526</td>\n",
              "      <td>NaN</td>\n",
              "    </tr>\n",
              "    <tr>\n",
              "      <th>4</th>\n",
              "      <td>10-ene-20</td>\n",
              "      <td>0.613282</td>\n",
              "      <td>493.007155</td>\n",
              "      <td>1.069731</td>\n",
              "      <td>5.178977</td>\n",
              "      <td>25.856352</td>\n",
              "      <td>72.573456</td>\n",
              "      <td>NaN</td>\n",
              "    </tr>\n",
              "    <tr>\n",
              "      <th>...</th>\n",
              "      <td>...</td>\n",
              "      <td>...</td>\n",
              "      <td>...</td>\n",
              "      <td>...</td>\n",
              "      <td>...</td>\n",
              "      <td>...</td>\n",
              "      <td>...</td>\n",
              "      <td>...</td>\n",
              "    </tr>\n",
              "    <tr>\n",
              "      <th>1019</th>\n",
              "      <td>05-feb-23</td>\n",
              "      <td>1.015667</td>\n",
              "      <td>494.332486</td>\n",
              "      <td>1.065172</td>\n",
              "      <td>7.087349</td>\n",
              "      <td>21.577837</td>\n",
              "      <td>82.702442</td>\n",
              "      <td>NaN</td>\n",
              "    </tr>\n",
              "    <tr>\n",
              "      <th>1020</th>\n",
              "      <td>06-feb-23</td>\n",
              "      <td>0.755367</td>\n",
              "      <td>494.728291</td>\n",
              "      <td>1.079779</td>\n",
              "      <td>7.087349</td>\n",
              "      <td>21.577837</td>\n",
              "      <td>84.891259</td>\n",
              "      <td>NaN</td>\n",
              "    </tr>\n",
              "    <tr>\n",
              "      <th>1021</th>\n",
              "      <td>07-feb-23</td>\n",
              "      <td>0.868515</td>\n",
              "      <td>493.656238</td>\n",
              "      <td>1.081718</td>\n",
              "      <td>7.087349</td>\n",
              "      <td>21.577837</td>\n",
              "      <td>83.469067</td>\n",
              "      <td>NaN</td>\n",
              "    </tr>\n",
              "    <tr>\n",
              "      <th>1022</th>\n",
              "      <td>08-feb-23</td>\n",
              "      <td>0.684547</td>\n",
              "      <td>493.927808</td>\n",
              "      <td>1.094824</td>\n",
              "      <td>7.57815</td>\n",
              "      <td>20.699341</td>\n",
              "      <td>84.925463</td>\n",
              "      <td>NaN</td>\n",
              "    </tr>\n",
              "    <tr>\n",
              "      <th>1023</th>\n",
              "      <td>09-feb-23</td>\n",
              "      <td>0.68454746</td>\n",
              "      <td>493.92780828</td>\n",
              "      <td>1.09482356</td>\n",
              "      <td>7.5781498</td>\n",
              "      <td>NaN</td>\n",
              "      <td>84.92546334</td>\n",
              "      <td>20.69934082</td>\n",
              "    </tr>\n",
              "  </tbody>\n",
              "</table>\n",
              "<p>1024 rows × 8 columns</p>\n",
              "</div>\n",
              "      <button class=\"colab-df-convert\" onclick=\"convertToInteractive('df-1db01e9c-75b4-43ef-9f63-08a9739b64bc')\"\n",
              "              title=\"Convert this dataframe to an interactive table.\"\n",
              "              style=\"display:none;\">\n",
              "        \n",
              "  <svg xmlns=\"http://www.w3.org/2000/svg\" height=\"24px\"viewBox=\"0 0 24 24\"\n",
              "       width=\"24px\">\n",
              "    <path d=\"M0 0h24v24H0V0z\" fill=\"none\"/>\n",
              "    <path d=\"M18.56 5.44l.94 2.06.94-2.06 2.06-.94-2.06-.94-.94-2.06-.94 2.06-2.06.94zm-11 1L8.5 8.5l.94-2.06 2.06-.94-2.06-.94L8.5 2.5l-.94 2.06-2.06.94zm10 10l.94 2.06.94-2.06 2.06-.94-2.06-.94-.94-2.06-.94 2.06-2.06.94z\"/><path d=\"M17.41 7.96l-1.37-1.37c-.4-.4-.92-.59-1.43-.59-.52 0-1.04.2-1.43.59L10.3 9.45l-7.72 7.72c-.78.78-.78 2.05 0 2.83L4 21.41c.39.39.9.59 1.41.59.51 0 1.02-.2 1.41-.59l7.78-7.78 2.81-2.81c.8-.78.8-2.07 0-2.86zM5.41 20L4 18.59l7.72-7.72 1.47 1.35L5.41 20z\"/>\n",
              "  </svg>\n",
              "      </button>\n",
              "      \n",
              "  <style>\n",
              "    .colab-df-container {\n",
              "      display:flex;\n",
              "      flex-wrap:wrap;\n",
              "      gap: 12px;\n",
              "    }\n",
              "\n",
              "    .colab-df-convert {\n",
              "      background-color: #E8F0FE;\n",
              "      border: none;\n",
              "      border-radius: 50%;\n",
              "      cursor: pointer;\n",
              "      display: none;\n",
              "      fill: #1967D2;\n",
              "      height: 32px;\n",
              "      padding: 0 0 0 0;\n",
              "      width: 32px;\n",
              "    }\n",
              "\n",
              "    .colab-df-convert:hover {\n",
              "      background-color: #E2EBFA;\n",
              "      box-shadow: 0px 1px 2px rgba(60, 64, 67, 0.3), 0px 1px 3px 1px rgba(60, 64, 67, 0.15);\n",
              "      fill: #174EA6;\n",
              "    }\n",
              "\n",
              "    [theme=dark] .colab-df-convert {\n",
              "      background-color: #3B4455;\n",
              "      fill: #D2E3FC;\n",
              "    }\n",
              "\n",
              "    [theme=dark] .colab-df-convert:hover {\n",
              "      background-color: #434B5C;\n",
              "      box-shadow: 0px 1px 3px 1px rgba(0, 0, 0, 0.15);\n",
              "      filter: drop-shadow(0px 1px 2px rgba(0, 0, 0, 0.3));\n",
              "      fill: #FFFFFF;\n",
              "    }\n",
              "  </style>\n",
              "\n",
              "      <script>\n",
              "        const buttonEl =\n",
              "          document.querySelector('#df-1db01e9c-75b4-43ef-9f63-08a9739b64bc button.colab-df-convert');\n",
              "        buttonEl.style.display =\n",
              "          google.colab.kernel.accessAllowed ? 'block' : 'none';\n",
              "\n",
              "        async function convertToInteractive(key) {\n",
              "          const element = document.querySelector('#df-1db01e9c-75b4-43ef-9f63-08a9739b64bc');\n",
              "          const dataTable =\n",
              "            await google.colab.kernel.invokeFunction('convertToInteractive',\n",
              "                                                     [key], {});\n",
              "          if (!dataTable) return;\n",
              "\n",
              "          const docLinkHtml = 'Like what you see? Visit the ' +\n",
              "            '<a target=\"_blank\" href=https://colab.research.google.com/notebooks/data_table.ipynb>data table notebook</a>'\n",
              "            + ' to learn more about interactive tables.';\n",
              "          element.innerHTML = '';\n",
              "          dataTable['output_type'] = 'display_data';\n",
              "          await google.colab.output.renderOutput(dataTable, element);\n",
              "          const docLink = document.createElement('div');\n",
              "          docLink.innerHTML = docLinkHtml;\n",
              "          element.appendChild(docLink);\n",
              "        }\n",
              "      </script>\n",
              "    </div>\n",
              "  </div>\n",
              "  "
            ]
          },
          "metadata": {},
          "execution_count": 137
        }
      ]
    },
    {
      "cell_type": "code",
      "source": [],
      "metadata": {
        "id": "ZDJEDfIWBxNJ"
      },
      "execution_count": null,
      "outputs": []
    }
  ]
}